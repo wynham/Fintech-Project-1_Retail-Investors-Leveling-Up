{
 "cells": [
  {
   "cell_type": "code",
   "execution_count": 21,
   "metadata": {},
   "outputs": [],
   "source": [
    "#!/usr/bin/env python\n",
    "import pandas as pd\n",
    "import json\n",
    "from os import path\n",
    "import hvplot.pandas\n",
    "import numpy as np\n",
    "%matplotlib inline\n"
   ]
  },
  {
   "cell_type": "code",
   "execution_count": 22,
   "metadata": {},
   "outputs": [],
   "source": [
    "# These 4 functions are for the purpose of reading in the data from the files collected in the \"collect_data\""
   ]
  },
  {
   "cell_type": "code",
   "execution_count": 23,
   "metadata": {},
   "outputs": [],
   "source": [
    "def import_cash_flow_statement(ticker):\n",
    "    cash_flow_statement_data = import_json_file(ticker + '_cash_flow_statement_data.json')\n",
    "    return cash_flow_statement_data"
   ]
  },
  {
   "cell_type": "code",
   "execution_count": 24,
   "metadata": {},
   "outputs": [],
   "source": [
    "def import_earnings_surprise(ticker):\n",
    "    earnings_data = import_json_file(ticker + '_earnings_data.json')\n",
    "    return earnings_data"
   ]
  },
  {
   "cell_type": "code",
   "execution_count": 25,
   "metadata": {},
   "outputs": [],
   "source": [
    "def import_balance_sheet(ticker):\n",
    "    balance_sheet_data = import_json_file(ticker + '_balance_sheet_data.json')\n",
    "    return balance_sheet_data"
   ]
  },
  {
   "cell_type": "code",
   "execution_count": 26,
   "metadata": {},
   "outputs": [],
   "source": [
    "def import_income_statement(ticker):\n",
    "    income_statement_data = import_json_file(ticker + '_income_statement_data.json')\n",
    "    return income_statement_data"
   ]
  },
  {
   "cell_type": "code",
   "execution_count": null,
   "metadata": {},
   "outputs": [],
   "source": []
  },
  {
   "cell_type": "code",
   "execution_count": 27,
   "metadata": {},
   "outputs": [],
   "source": [
    "# Function to import data in JSON format\n",
    "def import_json_file(file_name):\n",
    "    if path.exists(file_name):\n",
    "        with open(file_name) as json_data:\n",
    "            data = json.load(json_data)\n",
    "        return data\n",
    "    else:\n",
    "        print('FILE DOES NOT EXIST: ' + file_name)\n",
    "        return"
   ]
  },
  {
   "cell_type": "code",
   "execution_count": 28,
   "metadata": {},
   "outputs": [],
   "source": [
    "# This function allows the user to pull any financial statement the was created in the collect_data notebook\n",
    "def get_financials(tickers, report):\n",
    "    ret = {}\n",
    "    for ticker in tickers:\n",
    "        # force ticker to be all caps because fmp is case sensitive\n",
    "        ticker = ticker.upper()\n",
    "        ret[ticker] = {}\n",
    "        if report == 'is':\n",
    "            ret[ticker][report] = import_income_statement(ticker)\n",
    "        elif report == 'bs':\n",
    "            ret[ticker][report] = import_balance_sheet(ticker)\n",
    "        elif report == 'cfs':\n",
    "            ret[ticker][report] = import_cash_flow_statement(ticker)\n",
    "        elif report == 'es':\n",
    "            ret[ticker][report] = import_earnings_surprise(ticker)\n",
    "    return ret"
   ]
  },
  {
   "cell_type": "code",
   "execution_count": 29,
   "metadata": {},
   "outputs": [],
   "source": [
    "# put in your tickers as a list/dict of strings based on which report you want\n",
    "ret = get_financials(['ibm'], 'is')"
   ]
  },
  {
   "cell_type": "markdown",
   "metadata": {},
   "source": [
    "The following lines of code are examples of ways in which the user can manipulate and visualize the downloaded data "
   ]
  },
  {
   "cell_type": "code",
   "execution_count": 49,
   "metadata": {},
   "outputs": [
    {
     "data": {
      "text/html": [
       "<div>\n",
       "<style scoped>\n",
       "    .dataframe tbody tr th:only-of-type {\n",
       "        vertical-align: middle;\n",
       "    }\n",
       "\n",
       "    .dataframe tbody tr th {\n",
       "        vertical-align: top;\n",
       "    }\n",
       "\n",
       "    .dataframe thead th {\n",
       "        text-align: right;\n",
       "    }\n",
       "</style>\n",
       "<table border=\"1\" class=\"dataframe\">\n",
       "  <thead>\n",
       "    <tr style=\"text-align: right;\">\n",
       "      <th></th>\n",
       "      <th>comprehensiveIncomeNetOfTax</th>\n",
       "      <th>costOfRevenue</th>\n",
       "      <th>costofGoodsAndServicesSold</th>\n",
       "      <th>depreciation</th>\n",
       "      <th>depreciationAndAmortization</th>\n",
       "      <th>ebit</th>\n",
       "      <th>ebitda</th>\n",
       "      <th>grossProfit</th>\n",
       "      <th>incomeBeforeTax</th>\n",
       "      <th>incomeTaxExpense</th>\n",
       "      <th>...</th>\n",
       "      <th>interestIncome</th>\n",
       "      <th>netIncome</th>\n",
       "      <th>netIncomeFromContinuingOperations</th>\n",
       "      <th>netInterestIncome</th>\n",
       "      <th>operatingExpenses</th>\n",
       "      <th>operatingIncome</th>\n",
       "      <th>otherNonOperatingIncome</th>\n",
       "      <th>researchAndDevelopment</th>\n",
       "      <th>sellingGeneralAndAdministrative</th>\n",
       "      <th>totalRevenue</th>\n",
       "    </tr>\n",
       "    <tr>\n",
       "      <th>fiscalDateEnding</th>\n",
       "      <th></th>\n",
       "      <th></th>\n",
       "      <th></th>\n",
       "      <th></th>\n",
       "      <th></th>\n",
       "      <th></th>\n",
       "      <th></th>\n",
       "      <th></th>\n",
       "      <th></th>\n",
       "      <th></th>\n",
       "      <th></th>\n",
       "      <th></th>\n",
       "      <th></th>\n",
       "      <th></th>\n",
       "      <th></th>\n",
       "      <th></th>\n",
       "      <th></th>\n",
       "      <th></th>\n",
       "      <th></th>\n",
       "      <th></th>\n",
       "      <th></th>\n",
       "    </tr>\n",
       "  </thead>\n",
       "  <tbody>\n",
       "    <tr>\n",
       "      <th>2020-12-31</th>\n",
       "      <td>4850000000</td>\n",
       "      <td>-38046000000</td>\n",
       "      <td>-439000000</td>\n",
       "      <td>-4227000000</td>\n",
       "      <td>-2468000000</td>\n",
       "      <td>4609000000</td>\n",
       "      <td>7077000000</td>\n",
       "      <td>35575000000</td>\n",
       "      <td>4726000000</td>\n",
       "      <td>864000000</td>\n",
       "      <td>...</td>\n",
       "      <td>105000000</td>\n",
       "      <td>5590000000</td>\n",
       "      <td>5501000000</td>\n",
       "      <td>-1288000000</td>\n",
       "      <td>-30966000000</td>\n",
       "      <td>4609000000</td>\n",
       "      <td>-861000000</td>\n",
       "      <td>-6333000000</td>\n",
       "      <td>-23082000000</td>\n",
       "      <td>73620000000</td>\n",
       "    </tr>\n",
       "    <tr>\n",
       "      <th>2019-12-31</th>\n",
       "      <td>10324000000</td>\n",
       "      <td>-40659000000</td>\n",
       "      <td>-591000000</td>\n",
       "      <td>-4209000000</td>\n",
       "      <td>-1850000000</td>\n",
       "      <td>9004000000</td>\n",
       "      <td>10854000000</td>\n",
       "      <td>36488000000</td>\n",
       "      <td>10162000000</td>\n",
       "      <td>-731000000</td>\n",
       "      <td>...</td>\n",
       "      <td>349000000</td>\n",
       "      <td>9431000000</td>\n",
       "      <td>9435000000</td>\n",
       "      <td>-1344000000</td>\n",
       "      <td>-27484000000</td>\n",
       "      <td>9004000000</td>\n",
       "      <td>968000000</td>\n",
       "      <td>-5989000000</td>\n",
       "      <td>-20604000000</td>\n",
       "      <td>77147000000</td>\n",
       "    </tr>\n",
       "    <tr>\n",
       "      <th>2018-12-31</th>\n",
       "      <td>8252000000</td>\n",
       "      <td>-42655000000</td>\n",
       "      <td>42655000000</td>\n",
       "      <td>-3127000000</td>\n",
       "      <td>-1353000000</td>\n",
       "      <td>10838000000</td>\n",
       "      <td>12191000000</td>\n",
       "      <td>36936000000</td>\n",
       "      <td>11347000000</td>\n",
       "      <td>-2619000000</td>\n",
       "      <td>...</td>\n",
       "      <td>264000000</td>\n",
       "      <td>8728000000</td>\n",
       "      <td>8723000000</td>\n",
       "      <td>-723000000</td>\n",
       "      <td>-26098000000</td>\n",
       "      <td>10838000000</td>\n",
       "      <td>-1152000000</td>\n",
       "      <td>-5379000000</td>\n",
       "      <td>-19366000000</td>\n",
       "      <td>79591000000</td>\n",
       "    </tr>\n",
       "    <tr>\n",
       "      <th>2017-12-31</th>\n",
       "      <td>8559000000</td>\n",
       "      <td>-42913000000</td>\n",
       "      <td>-41703000000</td>\n",
       "      <td>-3021000000</td>\n",
       "      <td>-1520000000</td>\n",
       "      <td>8813000000</td>\n",
       "      <td>10333000000</td>\n",
       "      <td>36227000000</td>\n",
       "      <td>11395000000</td>\n",
       "      <td>-5642000000</td>\n",
       "      <td>...</td>\n",
       "      <td>144000000</td>\n",
       "      <td>5753000000</td>\n",
       "      <td>5758000000</td>\n",
       "      <td>-615000000</td>\n",
       "      <td>-27414000000</td>\n",
       "      <td>8813000000</td>\n",
       "      <td>216000000</td>\n",
       "      <td>-5787000000</td>\n",
       "      <td>-20107000000</td>\n",
       "      <td>79139000000</td>\n",
       "    </tr>\n",
       "    <tr>\n",
       "      <th>2016-12-31</th>\n",
       "      <td>12081000000</td>\n",
       "      <td>-41625000000</td>\n",
       "      <td>-40580000000</td>\n",
       "      <td>-2837000000</td>\n",
       "      <td>-1544000000</td>\n",
       "      <td>9715000000</td>\n",
       "      <td>11259000000</td>\n",
       "      <td>38294000000</td>\n",
       "      <td>12321000000</td>\n",
       "      <td>-449000000</td>\n",
       "      <td>...</td>\n",
       "      <td>108000000</td>\n",
       "      <td>11872000000</td>\n",
       "      <td>11881000000</td>\n",
       "      <td>-630000000</td>\n",
       "      <td>-28579000000</td>\n",
       "      <td>9715000000</td>\n",
       "      <td>-145000000</td>\n",
       "      <td>-5751000000</td>\n",
       "      <td>-21069000000</td>\n",
       "      <td>79919000000</td>\n",
       "    </tr>\n",
       "  </tbody>\n",
       "</table>\n",
       "<p>5 rows × 22 columns</p>\n",
       "</div>"
      ],
      "text/plain": [
       "                 comprehensiveIncomeNetOfTax costOfRevenue  \\\n",
       "fiscalDateEnding                                             \n",
       "2020-12-31                        4850000000  -38046000000   \n",
       "2019-12-31                       10324000000  -40659000000   \n",
       "2018-12-31                        8252000000  -42655000000   \n",
       "2017-12-31                        8559000000  -42913000000   \n",
       "2016-12-31                       12081000000  -41625000000   \n",
       "\n",
       "                 costofGoodsAndServicesSold depreciation  \\\n",
       "fiscalDateEnding                                           \n",
       "2020-12-31                       -439000000  -4227000000   \n",
       "2019-12-31                       -591000000  -4209000000   \n",
       "2018-12-31                      42655000000  -3127000000   \n",
       "2017-12-31                     -41703000000  -3021000000   \n",
       "2016-12-31                     -40580000000  -2837000000   \n",
       "\n",
       "                 depreciationAndAmortization         ebit       ebitda  \\\n",
       "fiscalDateEnding                                                         \n",
       "2020-12-31                       -2468000000   4609000000   7077000000   \n",
       "2019-12-31                       -1850000000   9004000000  10854000000   \n",
       "2018-12-31                       -1353000000  10838000000  12191000000   \n",
       "2017-12-31                       -1520000000   8813000000  10333000000   \n",
       "2016-12-31                       -1544000000   9715000000  11259000000   \n",
       "\n",
       "                  grossProfit incomeBeforeTax incomeTaxExpense  ...  \\\n",
       "fiscalDateEnding                                                ...   \n",
       "2020-12-31        35575000000      4726000000        864000000  ...   \n",
       "2019-12-31        36488000000     10162000000       -731000000  ...   \n",
       "2018-12-31        36936000000     11347000000      -2619000000  ...   \n",
       "2017-12-31        36227000000     11395000000      -5642000000  ...   \n",
       "2016-12-31        38294000000     12321000000       -449000000  ...   \n",
       "\n",
       "                 interestIncome    netIncome  \\\n",
       "fiscalDateEnding                               \n",
       "2020-12-31            105000000   5590000000   \n",
       "2019-12-31            349000000   9431000000   \n",
       "2018-12-31            264000000   8728000000   \n",
       "2017-12-31            144000000   5753000000   \n",
       "2016-12-31            108000000  11872000000   \n",
       "\n",
       "                 netIncomeFromContinuingOperations netInterestIncome  \\\n",
       "fiscalDateEnding                                                       \n",
       "2020-12-31                              5501000000       -1288000000   \n",
       "2019-12-31                              9435000000       -1344000000   \n",
       "2018-12-31                              8723000000        -723000000   \n",
       "2017-12-31                              5758000000        -615000000   \n",
       "2016-12-31                             11881000000        -630000000   \n",
       "\n",
       "                 operatingExpenses operatingIncome otherNonOperatingIncome  \\\n",
       "fiscalDateEnding                                                             \n",
       "2020-12-31            -30966000000      4609000000              -861000000   \n",
       "2019-12-31            -27484000000      9004000000               968000000   \n",
       "2018-12-31            -26098000000     10838000000             -1152000000   \n",
       "2017-12-31            -27414000000      8813000000               216000000   \n",
       "2016-12-31            -28579000000      9715000000              -145000000   \n",
       "\n",
       "                 researchAndDevelopment sellingGeneralAndAdministrative  \\\n",
       "fiscalDateEnding                                                          \n",
       "2020-12-31                  -6333000000                    -23082000000   \n",
       "2019-12-31                  -5989000000                    -20604000000   \n",
       "2018-12-31                  -5379000000                    -19366000000   \n",
       "2017-12-31                  -5787000000                    -20107000000   \n",
       "2016-12-31                  -5751000000                    -21069000000   \n",
       "\n",
       "                 totalRevenue  \n",
       "fiscalDateEnding               \n",
       "2020-12-31        73620000000  \n",
       "2019-12-31        77147000000  \n",
       "2018-12-31        79591000000  \n",
       "2017-12-31        79139000000  \n",
       "2016-12-31        79919000000  \n",
       "\n",
       "[5 rows x 22 columns]"
      ]
     },
     "execution_count": 49,
     "metadata": {},
     "output_type": "execute_result"
    }
   ],
   "source": [
    "# create a dataframe with the downloaded data to allow for easy manipulation\n",
    "financial_data=pd.DataFrame(ret[\"IBM\"][\"is\"][\"annualReports\"])\n",
    "financial_data=((financial_data.set_index(\"fiscalDateEnding\")).dropna())\n",
    "financial_data=financial_data.drop(['nonInterestIncome','reportedCurrency','investmentIncomeNet'],axis=1)\n",
    "financial_data_2=financial_data\n",
    "financial_data_2"
   ]
  },
  {
   "cell_type": "code",
   "execution_count": 50,
   "metadata": {},
   "outputs": [
    {
     "data": {
      "text/plain": [
       "comprehensiveIncomeNetOfTax            int32\n",
       "costOfRevenue                          int32\n",
       "costofGoodsAndServicesSold             int32\n",
       "depreciation                           int32\n",
       "depreciationAndAmortization            int32\n",
       "ebit                                   int32\n",
       "ebitda                                 int32\n",
       "grossProfit                            int32\n",
       "incomeBeforeTax                        int32\n",
       "incomeTaxExpense                       int32\n",
       "interestAndDebtExpense                 int32\n",
       "interestExpense                        int32\n",
       "interestIncome                         int32\n",
       "netIncome                              int32\n",
       "netIncomeFromContinuingOperations      int32\n",
       "netInterestIncome                      int32\n",
       "operatingExpenses                      int32\n",
       "operatingIncome                        int32\n",
       "otherNonOperatingIncome                int32\n",
       "researchAndDevelopment                 int32\n",
       "sellingGeneralAndAdministrative        int32\n",
       "totalRevenue                           int32\n",
       "Gross Profit Margin                  float64\n",
       "dtype: object"
      ]
     },
     "execution_count": 50,
     "metadata": {},
     "output_type": "execute_result"
    }
   ],
   "source": [
    "\n",
    "financial_data_2=financial_data_2.replace(\"None\",0)\n",
    "financial_data_2=financial_data_2.astype('int32')\n",
    "financial_data_2['Gross Profit Margin']=financial_data_2['grossProfit']/financial_data_2['totalRevenue']\n",
    "financial_data_2.dtypes"
   ]
  },
  {
   "cell_type": "code",
   "execution_count": 51,
   "metadata": {},
   "outputs": [
    {
     "data": {},
     "metadata": {},
     "output_type": "display_data"
    },
    {
     "data": {
      "application/vnd.holoviews_exec.v0+json": "",
      "text/html": [
       "<div id='1001'>\n",
       "\n",
       "\n",
       "\n",
       "\n",
       "\n",
       "  <div class=\"bk-root\" id=\"a36020c1-a6e0-40eb-a512-73e2bb098e94\" data-root-id=\"1001\"></div>\n",
       "</div>\n",
       "<script type=\"application/javascript\">(function(root) {\n",
       "  function embed_document(root) {\n",
       "    var docs_json = {\"4905c271-7d7f-4b51-a904-da067c274851\":{\"roots\":{\"references\":[{\"attributes\":{\"source\":{\"id\":\"1035\"}},\"id\":\"1042\",\"type\":\"CDSView\"},{\"attributes\":{\"data\":{\"Gross Profit Margin\":{\"__ndarray__\":\"sKpnyggOAEA/qqKGUjUqwIZxry4KUes/CYDAK1dU8D8MAnmEBmXLPw==\",\"dtype\":\"float64\",\"order\":\"little\",\"shape\":[5]},\"Gross_Profit_Margin\":{\"__ndarray__\":\"sKpnyggOAEA/qqKGUjUqwIZxry4KUes/CYDAK1dU8D8MAnmEBmXLPw==\",\"dtype\":\"float64\",\"order\":\"little\",\"shape\":[5]},\"fiscalDateEnding\":[\"2020-12-31\",\"2019-12-31\",\"2018-12-31\",\"2017-12-31\",\"2016-12-31\"]},\"selected\":{\"id\":\"1036\"},\"selection_policy\":{\"id\":\"1054\"}},\"id\":\"1035\",\"type\":\"ColumnDataSource\"},{\"attributes\":{\"axis\":{\"id\":\"1018\"},\"dimension\":1,\"grid_line_color\":null,\"ticker\":null},\"id\":\"1021\",\"type\":\"Grid\"},{\"attributes\":{},\"id\":\"1013\",\"type\":\"LinearScale\"},{\"attributes\":{},\"id\":\"1019\",\"type\":\"BasicTicker\"},{\"attributes\":{\"data_source\":{\"id\":\"1035\"},\"glyph\":{\"id\":\"1038\"},\"hover_glyph\":null,\"muted_glyph\":{\"id\":\"1040\"},\"nonselection_glyph\":{\"id\":\"1039\"},\"selection_glyph\":null,\"view\":{\"id\":\"1042\"}},\"id\":\"1041\",\"type\":\"GlyphRenderer\"},{\"attributes\":{\"callback\":null,\"renderers\":[{\"id\":\"1041\"}],\"tags\":[\"hv_created\"],\"tooltips\":[[\"fiscalDateEnding\",\"@{fiscalDateEnding}\"],[\"Gross Profit Margin\",\"@{Gross_Profit_Margin}\"]]},\"id\":\"1005\",\"type\":\"HoverTool\"},{\"attributes\":{\"bottom_units\":\"screen\",\"fill_alpha\":0.5,\"fill_color\":\"lightgrey\",\"left_units\":\"screen\",\"level\":\"overlay\",\"line_alpha\":1.0,\"line_color\":\"black\",\"line_dash\":[4,4],\"line_width\":2,\"right_units\":\"screen\",\"top_units\":\"screen\"},\"id\":\"1027\",\"type\":\"BoxAnnotation\"},{\"attributes\":{},\"id\":\"1054\",\"type\":\"UnionRenderers\"},{\"attributes\":{},\"id\":\"1022\",\"type\":\"SaveTool\"},{\"attributes\":{\"axis_label\":\"Gross Profit Margin\",\"bounds\":\"auto\",\"formatter\":{\"id\":\"1045\"},\"major_label_orientation\":\"horizontal\",\"ticker\":{\"id\":\"1019\"}},\"id\":\"1018\",\"type\":\"LinearAxis\"},{\"attributes\":{\"end\":3.517952499535733,\"reset_end\":3.517952499535733,\"reset_start\":-14.615245043011754,\"start\":-14.615245043011754,\"tags\":[[[\"Gross Profit Margin\",\"Gross Profit Margin\",null]]]},\"id\":\"1004\",\"type\":\"Range1d\"},{\"attributes\":{},\"id\":\"1023\",\"type\":\"PanTool\"},{\"attributes\":{\"children\":[{\"id\":\"1002\"},{\"id\":\"1006\"},{\"id\":\"1063\"}],\"margin\":[0,0,0,0],\"name\":\"Row01555\",\"tags\":[\"embedded\"]},\"id\":\"1001\",\"type\":\"Row\"},{\"attributes\":{\"active_drag\":\"auto\",\"active_inspect\":\"auto\",\"active_multi\":null,\"active_scroll\":\"auto\",\"active_tap\":\"auto\",\"tools\":[{\"id\":\"1005\"},{\"id\":\"1022\"},{\"id\":\"1023\"},{\"id\":\"1024\"},{\"id\":\"1025\"},{\"id\":\"1026\"}]},\"id\":\"1028\",\"type\":\"Toolbar\"},{\"attributes\":{},\"id\":\"1024\",\"type\":\"WheelZoomTool\"},{\"attributes\":{\"text\":\"Gross Profit Margin\",\"text_color\":{\"value\":\"black\"},\"text_font_size\":{\"value\":\"12pt\"}},\"id\":\"1007\",\"type\":\"Title\"},{\"attributes\":{\"overlay\":{\"id\":\"1027\"}},\"id\":\"1025\",\"type\":\"BoxZoomTool\"},{\"attributes\":{\"line_color\":\"#1f77b3\",\"line_width\":2,\"x\":{\"field\":\"fiscalDateEnding\"},\"y\":{\"field\":\"Gross Profit Margin\"}},\"id\":\"1038\",\"type\":\"Line\"},{\"attributes\":{\"below\":[{\"id\":\"1015\"}],\"center\":[{\"id\":\"1017\"},{\"id\":\"1021\"}],\"left\":[{\"id\":\"1018\"}],\"margin\":[5,5,5,5],\"min_border_bottom\":10,\"min_border_left\":10,\"min_border_right\":10,\"min_border_top\":10,\"plot_height\":300,\"plot_width\":700,\"renderers\":[{\"id\":\"1041\"}],\"sizing_mode\":\"fixed\",\"title\":{\"id\":\"1007\"},\"toolbar\":{\"id\":\"1028\"},\"x_range\":{\"id\":\"1003\"},\"x_scale\":{\"id\":\"1011\"},\"y_range\":{\"id\":\"1004\"},\"y_scale\":{\"id\":\"1013\"}},\"id\":\"1006\",\"subtype\":\"Figure\",\"type\":\"Plot\"},{\"attributes\":{\"line_alpha\":0.2,\"line_color\":\"#1f77b3\",\"line_width\":2,\"x\":{\"field\":\"fiscalDateEnding\"},\"y\":{\"field\":\"Gross Profit Margin\"}},\"id\":\"1040\",\"type\":\"Line\"},{\"attributes\":{\"margin\":[5,5,5,5],\"name\":\"HSpacer01560\",\"sizing_mode\":\"stretch_width\"},\"id\":\"1063\",\"type\":\"Spacer\"},{\"attributes\":{\"axis_label\":\"fiscalDateEnding\",\"bounds\":\"auto\",\"formatter\":{\"id\":\"1043\"},\"major_label_orientation\":1.5707963267948966,\"ticker\":{\"id\":\"1016\"}},\"id\":\"1015\",\"type\":\"CategoricalAxis\"},{\"attributes\":{},\"id\":\"1045\",\"type\":\"BasicTickFormatter\"},{\"attributes\":{\"margin\":[5,5,5,5],\"name\":\"HSpacer01559\",\"sizing_mode\":\"stretch_width\"},\"id\":\"1002\",\"type\":\"Spacer\"},{\"attributes\":{},\"id\":\"1026\",\"type\":\"ResetTool\"},{\"attributes\":{\"factors\":[\"2020-12-31\",\"2019-12-31\",\"2018-12-31\",\"2017-12-31\",\"2016-12-31\"],\"tags\":[[[\"fiscalDateEnding\",\"fiscalDateEnding\",null]]]},\"id\":\"1003\",\"type\":\"FactorRange\"},{\"attributes\":{},\"id\":\"1043\",\"type\":\"CategoricalTickFormatter\"},{\"attributes\":{},\"id\":\"1011\",\"type\":\"CategoricalScale\"},{\"attributes\":{\"axis\":{\"id\":\"1015\"},\"grid_line_color\":null,\"ticker\":null},\"id\":\"1017\",\"type\":\"Grid\"},{\"attributes\":{},\"id\":\"1036\",\"type\":\"Selection\"},{\"attributes\":{\"line_alpha\":0.1,\"line_color\":\"#1f77b3\",\"line_width\":2,\"x\":{\"field\":\"fiscalDateEnding\"},\"y\":{\"field\":\"Gross Profit Margin\"}},\"id\":\"1039\",\"type\":\"Line\"},{\"attributes\":{},\"id\":\"1016\",\"type\":\"CategoricalTicker\"}],\"root_ids\":[\"1001\"]},\"title\":\"Bokeh Application\",\"version\":\"2.2.3\"}};\n",
       "    var render_items = [{\"docid\":\"4905c271-7d7f-4b51-a904-da067c274851\",\"root_ids\":[\"1001\"],\"roots\":{\"1001\":\"a36020c1-a6e0-40eb-a512-73e2bb098e94\"}}];\n",
       "    root.Bokeh.embed.embed_items_notebook(docs_json, render_items);\n",
       "  }\n",
       "  if (root.Bokeh !== undefined && root.Bokeh.Panel !== undefined) {\n",
       "    embed_document(root);\n",
       "  } else {\n",
       "    var attempts = 0;\n",
       "    var timer = setInterval(function(root) {\n",
       "      if (root.Bokeh !== undefined && root.Bokeh.Panel !== undefined) {\n",
       "        clearInterval(timer);\n",
       "        embed_document(root);\n",
       "      } else if (document.readyState == \"complete\") {\n",
       "        attempts++;\n",
       "        if (attempts > 100) {\n",
       "          clearInterval(timer);\n",
       "          console.log(\"Bokeh: ERROR: Unable to run BokehJS code because BokehJS library is missing\");\n",
       "        }\n",
       "      }\n",
       "    }, 10, root)\n",
       "  }\n",
       "})(window);</script>"
      ],
      "text/plain": [
       ":Curve   [fiscalDateEnding]   (Gross Profit Margin)"
      ]
     },
     "execution_count": 51,
     "metadata": {
      "application/vnd.holoviews_exec.v0+json": {
       "id": "1001"
      }
     },
     "output_type": "execute_result"
    }
   ],
   "source": [
    "financial_data_2.hvplot.line(x='fiscalDateEnding', y=['Gross Profit Margin'],rot=90, title=\"Gross Profit Margin\")\n",
    "    \n"
   ]
  },
  {
   "cell_type": "code",
   "execution_count": null,
   "metadata": {},
   "outputs": [],
   "source": []
  },
  {
   "cell_type": "code",
   "execution_count": 52,
   "metadata": {},
   "outputs": [
    {
     "data": {},
     "metadata": {},
     "output_type": "display_data"
    },
    {
     "data": {
      "application/vnd.holoviews_exec.v0+json": "",
      "text/html": [
       "<div id='1105'>\n",
       "\n",
       "\n",
       "\n",
       "\n",
       "\n",
       "  <div class=\"bk-root\" id=\"9c0b1e10-a9de-4416-903d-5bf0aeb7456c\" data-root-id=\"1105\"></div>\n",
       "</div>\n",
       "<script type=\"application/javascript\">(function(root) {\n",
       "  function embed_document(root) {\n",
       "    var docs_json = {\"81fae4c7-c942-446a-891d-8104e4ab00ee\":{\"roots\":{\"references\":[{\"attributes\":{\"text\":\"Income Statement Analysis\",\"text_color\":{\"value\":\"black\"},\"text_font_size\":{\"value\":\"12pt\"}},\"id\":\"1111\",\"type\":\"Title\"},{\"attributes\":{\"data_source\":{\"id\":\"1140\"},\"glyph\":{\"id\":\"1143\"},\"hover_glyph\":null,\"muted_glyph\":{\"id\":\"1145\"},\"nonselection_glyph\":{\"id\":\"1144\"},\"selection_glyph\":null,\"view\":{\"id\":\"1147\"}},\"id\":\"1146\",\"type\":\"GlyphRenderer\"},{\"attributes\":{},\"id\":\"1115\",\"type\":\"CategoricalScale\"},{\"attributes\":{\"axis\":{\"id\":\"1119\"},\"grid_line_color\":null,\"ticker\":null},\"id\":\"1121\",\"type\":\"Grid\"},{\"attributes\":{},\"id\":\"1120\",\"type\":\"CategoricalTicker\"},{\"attributes\":{},\"id\":\"1123\",\"type\":\"BasicTicker\"},{\"attributes\":{\"data\":{\"Variable\":[\"totalRevenue\",\"totalRevenue\",\"totalRevenue\",\"totalRevenue\",\"totalRevenue\",\"costOfRevenue\",\"costOfRevenue\",\"costOfRevenue\",\"costOfRevenue\",\"costOfRevenue\",\"grossProfit\",\"grossProfit\",\"grossProfit\",\"grossProfit\",\"grossProfit\"],\"fiscalDateEnding\":[\"2020-12-31\",\"2019-12-31\",\"2018-12-31\",\"2017-12-31\",\"2016-12-31\",\"2020-12-31\",\"2019-12-31\",\"2018-12-31\",\"2017-12-31\",\"2016-12-31\",\"2020-12-31\",\"2019-12-31\",\"2018-12-31\",\"2017-12-31\",\"2016-12-31\"],\"value\":{\"__ndarray__\":\"AA0YJMDMUfbAR/6HwE4NbcApi5uAHEgkQOWIiEBakBHAlS8CwOf0TsBrb0gAstp+AKKOmcAmTG+AEYDq\",\"dtype\":\"int32\",\"order\":\"little\",\"shape\":[15]},\"xoffsets\":[[\"2020-12-31\",\"totalRevenue\"],[\"2019-12-31\",\"totalRevenue\"],[\"2018-12-31\",\"totalRevenue\"],[\"2017-12-31\",\"totalRevenue\"],[\"2016-12-31\",\"totalRevenue\"],[\"2020-12-31\",\"costOfRevenue\"],[\"2019-12-31\",\"costOfRevenue\"],[\"2018-12-31\",\"costOfRevenue\"],[\"2017-12-31\",\"costOfRevenue\"],[\"2016-12-31\",\"costOfRevenue\"],[\"2020-12-31\",\"grossProfit\"],[\"2019-12-31\",\"grossProfit\"],[\"2018-12-31\",\"grossProfit\"],[\"2017-12-31\",\"grossProfit\"],[\"2016-12-31\",\"grossProfit\"]]},\"selected\":{\"id\":\"1141\"},\"selection_policy\":{\"id\":\"1159\"}},\"id\":\"1140\",\"type\":\"ColumnDataSource\"},{\"attributes\":{\"axis_label\":\"\",\"bounds\":\"auto\",\"formatter\":{\"id\":\"1150\"},\"major_label_orientation\":\"horizontal\",\"ticker\":{\"id\":\"1123\"}},\"id\":\"1122\",\"type\":\"LinearAxis\"},{\"attributes\":{\"end\":2542425657.6,\"reset_end\":2542425657.6,\"reset_start\":-2427542649.6,\"start\":-2427542649.6,\"tags\":[[[\"value\",\"value\",null]]]},\"id\":\"1108\",\"type\":\"Range1d\"},{\"attributes\":{},\"id\":\"1159\",\"type\":\"UnionRenderers\"},{\"attributes\":{\"below\":[{\"id\":\"1119\"}],\"center\":[{\"id\":\"1121\"},{\"id\":\"1125\"}],\"left\":[{\"id\":\"1122\"}],\"margin\":[5,5,5,5],\"min_border_bottom\":10,\"min_border_left\":10,\"min_border_right\":10,\"min_border_top\":10,\"plot_height\":300,\"plot_width\":700,\"renderers\":[{\"id\":\"1146\"}],\"sizing_mode\":\"fixed\",\"title\":{\"id\":\"1111\"},\"toolbar\":{\"id\":\"1132\"},\"x_range\":{\"id\":\"1107\"},\"x_scale\":{\"id\":\"1115\"},\"y_range\":{\"id\":\"1108\"},\"y_scale\":{\"id\":\"1117\"}},\"id\":\"1110\",\"subtype\":\"Figure\",\"type\":\"Plot\"},{\"attributes\":{\"active_drag\":\"auto\",\"active_inspect\":\"auto\",\"active_multi\":null,\"active_scroll\":\"auto\",\"active_tap\":\"auto\",\"tools\":[{\"id\":\"1109\"},{\"id\":\"1126\"},{\"id\":\"1127\"},{\"id\":\"1128\"},{\"id\":\"1129\"},{\"id\":\"1130\"}]},\"id\":\"1132\",\"type\":\"Toolbar\"},{\"attributes\":{\"factors\":[[\"2020-12-31\",\"grossProfit\"],[\"2020-12-31\",\"costOfRevenue\"],[\"2020-12-31\",\"totalRevenue\"],[\"2019-12-31\",\"grossProfit\"],[\"2019-12-31\",\"costOfRevenue\"],[\"2019-12-31\",\"totalRevenue\"],[\"2018-12-31\",\"grossProfit\"],[\"2018-12-31\",\"costOfRevenue\"],[\"2018-12-31\",\"totalRevenue\"],[\"2017-12-31\",\"grossProfit\"],[\"2017-12-31\",\"costOfRevenue\"],[\"2017-12-31\",\"totalRevenue\"],[\"2016-12-31\",\"grossProfit\"],[\"2016-12-31\",\"costOfRevenue\"],[\"2016-12-31\",\"totalRevenue\"]],\"tags\":[[[\"fiscalDateEnding\",\"fiscalDateEnding\",null],[\"Variable\",\"Variable\",null]]]},\"id\":\"1107\",\"type\":\"FactorRange\"},{\"attributes\":{},\"id\":\"1126\",\"type\":\"SaveTool\"},{\"attributes\":{\"fill_alpha\":{\"value\":0.2},\"fill_color\":{\"field\":\"Variable\",\"transform\":{\"id\":\"1139\"}},\"line_alpha\":{\"value\":0.2},\"top\":{\"field\":\"value\"},\"width\":{\"value\":0.8},\"x\":{\"field\":\"xoffsets\"}},\"id\":\"1145\",\"type\":\"VBar\"},{\"attributes\":{\"margin\":[5,5,5,5],\"name\":\"HSpacer01749\",\"sizing_mode\":\"stretch_width\"},\"id\":\"1106\",\"type\":\"Spacer\"},{\"attributes\":{},\"id\":\"1127\",\"type\":\"PanTool\"},{\"attributes\":{},\"id\":\"1150\",\"type\":\"BasicTickFormatter\"},{\"attributes\":{},\"id\":\"1148\",\"type\":\"CategoricalTickFormatter\"},{\"attributes\":{\"callback\":null,\"renderers\":[{\"id\":\"1146\"}],\"tags\":[\"hv_created\"],\"tooltips\":[[\"fiscalDateEnding\",\"@{fiscalDateEnding}\"],[\"Variable\",\"@{Variable}\"],[\"value\",\"@{value}\"]]},\"id\":\"1109\",\"type\":\"HoverTool\"},{\"attributes\":{},\"id\":\"1128\",\"type\":\"WheelZoomTool\"},{\"attributes\":{\"factors\":[\"totalRevenue\",\"costOfRevenue\",\"grossProfit\"],\"palette\":[\"#1f77b3\",\"#ff7e0e\",\"#2ba02b\"]},\"id\":\"1139\",\"type\":\"CategoricalColorMapper\"},{\"attributes\":{\"bottom_units\":\"screen\",\"fill_alpha\":0.5,\"fill_color\":\"lightgrey\",\"left_units\":\"screen\",\"level\":\"overlay\",\"line_alpha\":1.0,\"line_color\":\"black\",\"line_dash\":[4,4],\"line_width\":2,\"right_units\":\"screen\",\"top_units\":\"screen\"},\"id\":\"1131\",\"type\":\"BoxAnnotation\"},{\"attributes\":{\"overlay\":{\"id\":\"1131\"}},\"id\":\"1129\",\"type\":\"BoxZoomTool\"},{\"attributes\":{\"fill_color\":{\"field\":\"Variable\",\"transform\":{\"id\":\"1139\"}},\"top\":{\"field\":\"value\"},\"width\":{\"value\":0.8},\"x\":{\"field\":\"xoffsets\"}},\"id\":\"1143\",\"type\":\"VBar\"},{\"attributes\":{\"children\":[{\"id\":\"1106\"},{\"id\":\"1110\"},{\"id\":\"1168\"}],\"margin\":[0,0,0,0],\"name\":\"Row01745\",\"tags\":[\"embedded\"]},\"id\":\"1105\",\"type\":\"Row\"},{\"attributes\":{\"source\":{\"id\":\"1140\"}},\"id\":\"1147\",\"type\":\"CDSView\"},{\"attributes\":{\"axis_label\":\"fiscalDateEnding, Variable\",\"bounds\":\"auto\",\"formatter\":{\"id\":\"1148\"},\"major_label_orientation\":1.5707963267948966,\"ticker\":{\"id\":\"1120\"}},\"id\":\"1119\",\"type\":\"CategoricalAxis\"},{\"attributes\":{\"axis\":{\"id\":\"1122\"},\"dimension\":1,\"grid_line_color\":null,\"ticker\":null},\"id\":\"1125\",\"type\":\"Grid\"},{\"attributes\":{},\"id\":\"1130\",\"type\":\"ResetTool\"},{\"attributes\":{\"fill_alpha\":{\"value\":0.1},\"fill_color\":{\"field\":\"Variable\",\"transform\":{\"id\":\"1139\"}},\"line_alpha\":{\"value\":0.1},\"top\":{\"field\":\"value\"},\"width\":{\"value\":0.8},\"x\":{\"field\":\"xoffsets\"}},\"id\":\"1144\",\"type\":\"VBar\"},{\"attributes\":{\"margin\":[5,5,5,5],\"name\":\"HSpacer01750\",\"sizing_mode\":\"stretch_width\"},\"id\":\"1168\",\"type\":\"Spacer\"},{\"attributes\":{},\"id\":\"1141\",\"type\":\"Selection\"},{\"attributes\":{},\"id\":\"1117\",\"type\":\"LinearScale\"}],\"root_ids\":[\"1105\"]},\"title\":\"Bokeh Application\",\"version\":\"2.2.3\"}};\n",
       "    var render_items = [{\"docid\":\"81fae4c7-c942-446a-891d-8104e4ab00ee\",\"root_ids\":[\"1105\"],\"roots\":{\"1105\":\"9c0b1e10-a9de-4416-903d-5bf0aeb7456c\"}}];\n",
       "    root.Bokeh.embed.embed_items_notebook(docs_json, render_items);\n",
       "  }\n",
       "  if (root.Bokeh !== undefined && root.Bokeh.Panel !== undefined) {\n",
       "    embed_document(root);\n",
       "  } else {\n",
       "    var attempts = 0;\n",
       "    var timer = setInterval(function(root) {\n",
       "      if (root.Bokeh !== undefined && root.Bokeh.Panel !== undefined) {\n",
       "        clearInterval(timer);\n",
       "        embed_document(root);\n",
       "      } else if (document.readyState == \"complete\") {\n",
       "        attempts++;\n",
       "        if (attempts > 100) {\n",
       "          clearInterval(timer);\n",
       "          console.log(\"Bokeh: ERROR: Unable to run BokehJS code because BokehJS library is missing\");\n",
       "        }\n",
       "      }\n",
       "    }, 10, root)\n",
       "  }\n",
       "})(window);</script>"
      ],
      "text/plain": [
       ":Bars   [fiscalDateEnding,Variable]   (value)"
      ]
     },
     "execution_count": 52,
     "metadata": {
      "application/vnd.holoviews_exec.v0+json": {
       "id": "1105"
      }
     },
     "output_type": "execute_result"
    }
   ],
   "source": [
    "%matplotlib inline\n",
    "financial_data_2.hvplot.bar(x='fiscalDateEnding', y=['totalRevenue', 'costOfRevenue', 'grossProfit'],rot=90, title='Income Statement Analysis'\n",
    "    \n",
    ")"
   ]
  },
  {
   "cell_type": "code",
   "execution_count": 137,
   "metadata": {},
   "outputs": [],
   "source": []
  },
  {
   "cell_type": "code",
   "execution_count": 136,
   "metadata": {},
   "outputs": [],
   "source": []
  },
  {
   "cell_type": "code",
   "execution_count": 135,
   "metadata": {},
   "outputs": [],
   "source": []
  },
  {
   "cell_type": "code",
   "execution_count": null,
   "metadata": {},
   "outputs": [],
   "source": []
  },
  {
   "cell_type": "code",
   "execution_count": null,
   "metadata": {},
   "outputs": [],
   "source": []
  }
 ],
 "metadata": {
  "kernelspec": {
   "display_name": "Python 3",
   "language": "python",
   "name": "python3"
  },
  "language_info": {
   "codemirror_mode": {
    "name": "ipython",
    "version": 3
   },
   "file_extension": ".py",
   "mimetype": "text/x-python",
   "name": "python",
   "nbconvert_exporter": "python",
   "pygments_lexer": "ipython3",
   "version": "3.7.9"
  }
 },
 "nbformat": 4,
 "nbformat_minor": 4
}
