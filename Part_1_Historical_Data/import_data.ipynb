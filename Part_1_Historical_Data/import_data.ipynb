{
 "cells": [
  {
   "cell_type": "code",
   "execution_count": null,
   "metadata": {},
   "outputs": [],
   "source": [
    "#!/usr/bin/env python\n",
    "import pandas as pd\n",
    "import json\n",
    "from os import path\n",
    "import hvplot.pandas\n",
    "import numpy as np\n",
    "%matplotlib inline\n"
   ]
  },
  {
   "cell_type": "code",
   "execution_count": 138,
   "metadata": {},
   "outputs": [],
   "source": [
    "# These 4 functions are for the purpose of reading in the data from the files collected in the \"collect_data\""
   ]
  },
  {
   "cell_type": "code",
   "execution_count": 2,
   "metadata": {},
   "outputs": [],
   "source": [
    "def import_cash_flow_statement(ticker):\n",
    "    cash_flow_statement_data = import_json_file(ticker + '_cash_flow_statement_data.json')\n",
    "    return cash_flow_statement_data"
   ]
  },
  {
   "cell_type": "code",
   "execution_count": 3,
   "metadata": {},
   "outputs": [],
   "source": [
    "def import_earnings_surprise(ticker):\n",
    "    earnings_data = import_json_file(ticker + '_earnings_data.json')\n",
    "    return earnings_data"
   ]
  },
  {
   "cell_type": "code",
   "execution_count": 4,
   "metadata": {},
   "outputs": [],
   "source": [
    "def import_balance_sheet(ticker):\n",
    "    balance_sheet_data = import_json_file(ticker + '_balance_sheet_data.json')\n",
    "    return balance_sheet_data"
   ]
  },
  {
   "cell_type": "code",
   "execution_count": 5,
   "metadata": {},
   "outputs": [],
   "source": [
    "def import_income_statement(ticker):\n",
    "    income_statement_data = import_json_file(ticker + '_income_statement_data.json')\n",
    "    return income_statement_data"
   ]
  },
  {
   "cell_type": "code",
   "execution_count": 6,
   "metadata": {},
   "outputs": [],
   "source": []
  },
  {
   "cell_type": "code",
   "execution_count": null,
   "metadata": {},
   "outputs": [],
   "source": [
    "# Function to import data in JSON format\n",
    "def import_json_file(file_name):\n",
    "    if path.exists(file_name):\n",
    "        with open(file_name) as json_data:\n",
    "            data = json.load(json_data)\n",
    "        return data\n",
    "    else:\n",
    "        print('FILE DOES NOT EXIST: ' + file_name)\n",
    "        return"
   ]
  },
  {
   "cell_type": "code",
   "execution_count": 8,
   "metadata": {},
   "outputs": [],
   "source": [
    "# This function allows the user to pull any financial statement the was created in the collect_data notebook\n",
    "def get_financials(tickers, report):\n",
    "    ret = {}\n",
    "    for ticker in tickers:\n",
    "        # force ticker to be all caps because fmp is case sensitive\n",
    "        ticker = ticker.upper()\n",
    "        ret[ticker] = {}\n",
    "        if report == 'is':\n",
    "            ret[ticker][report] = import_income_statement(ticker)\n",
    "        elif report == 'bs':\n",
    "            ret[ticker][report] = import_balance_sheet(ticker)\n",
    "        elif report == 'cfs':\n",
    "            ret[ticker][report] = import_cash_flow_statement(ticker)\n",
    "        elif report == 'es':\n",
    "            ret[ticker][report] = import_earnings_surprise(ticker)\n",
    "    return ret"
   ]
  },
  {
   "cell_type": "code",
   "execution_count": 96,
   "metadata": {},
   "outputs": [],
   "source": [
    "# put in your tickers as a list/dict of strings based on which report you want\n",
    "ret = get_financials(['ibm'], 'is')"
   ]
  },
  {
   "cell_type": "markdown",
   "metadata": {},
   "source": [
    "The following lines of code are examples of ways in which the user can manipulate and visualize the downloaded data "
   ]
  },
  {
   "cell_type": "code",
   "execution_count": 134,
   "metadata": {},
   "outputs": [
    {
     "data": {
      "text/html": [
       "<div>\n",
       "<style scoped>\n",
       "    .dataframe tbody tr th:only-of-type {\n",
       "        vertical-align: middle;\n",
       "    }\n",
       "\n",
       "    .dataframe tbody tr th {\n",
       "        vertical-align: top;\n",
       "    }\n",
       "\n",
       "    .dataframe thead th {\n",
       "        text-align: right;\n",
       "    }\n",
       "</style>\n",
       "<table border=\"1\" class=\"dataframe\">\n",
       "  <thead>\n",
       "    <tr style=\"text-align: right;\">\n",
       "      <th>fiscalDateEnding</th>\n",
       "      <th>2020-12-31</th>\n",
       "      <th>2019-12-31</th>\n",
       "      <th>2018-12-31</th>\n",
       "      <th>2017-12-31</th>\n",
       "      <th>2016-12-31</th>\n",
       "    </tr>\n",
       "  </thead>\n",
       "  <tbody>\n",
       "    <tr>\n",
       "      <th>totalRevenue</th>\n",
       "      <td>6.055560e+08</td>\n",
       "      <td>-1.624113e+08</td>\n",
       "      <td>-2.013379e+09</td>\n",
       "      <td>1.829589e+09</td>\n",
       "      <td>-1.685379e+09</td>\n",
       "    </tr>\n",
       "    <tr>\n",
       "      <th>costOfRevenue</th>\n",
       "      <td>-6.097057e+08</td>\n",
       "      <td>2.004294e+09</td>\n",
       "      <td>-2.946730e+08</td>\n",
       "      <td>-3.667296e+07</td>\n",
       "      <td>-1.324673e+09</td>\n",
       "    </tr>\n",
       "    <tr>\n",
       "      <th>grossProfit</th>\n",
       "      <td>1.215262e+09</td>\n",
       "      <td>2.128262e+09</td>\n",
       "      <td>-1.718706e+09</td>\n",
       "      <td>1.867262e+09</td>\n",
       "      <td>-3.607057e+08</td>\n",
       "    </tr>\n",
       "    <tr>\n",
       "      <th>Gross Profit Margin</th>\n",
       "      <td>2.006853e+00</td>\n",
       "      <td>-1.310415e+01</td>\n",
       "      <td>8.536426e-01</td>\n",
       "      <td>1.020591e+00</td>\n",
       "      <td>2.140206e-01</td>\n",
       "    </tr>\n",
       "  </tbody>\n",
       "</table>\n",
       "</div>"
      ],
      "text/plain": [
       "fiscalDateEnding       2020-12-31    2019-12-31    2018-12-31    2017-12-31  \\\n",
       "totalRevenue         6.055560e+08 -1.624113e+08 -2.013379e+09  1.829589e+09   \n",
       "costOfRevenue       -6.097057e+08  2.004294e+09 -2.946730e+08 -3.667296e+07   \n",
       "grossProfit          1.215262e+09  2.128262e+09 -1.718706e+09  1.867262e+09   \n",
       "Gross Profit Margin  2.006853e+00 -1.310415e+01  8.536426e-01  1.020591e+00   \n",
       "\n",
       "fiscalDateEnding       2016-12-31  \n",
       "totalRevenue        -1.685379e+09  \n",
       "costOfRevenue       -1.324673e+09  \n",
       "grossProfit         -3.607057e+08  \n",
       "Gross Profit Margin  2.140206e-01  "
      ]
     },
     "execution_count": 134,
     "metadata": {},
     "output_type": "execute_result"
    }
   ],
   "source": [
    "# create a dataframe with the downloaded data to allow for easy manipulation\n",
    "financial_data=pd.DataFrame(ret[\"IBM\"][\"is\"][\"annualReports\"])\n",
    "financial_data=((financial_data.set_index(\"fiscalDateEnding\")).dropna())\n",
    "financial_data_2=financial_data_2.T\n",
    "financial_data_2"
   ]
  },
  {
   "cell_type": "code",
   "execution_count": 122,
   "metadata": {},
   "outputs": [
    {
     "data": {
      "text/plain": [
       "totalRevenue             int32\n",
       "costOfRevenue            int32\n",
       "grossProfit              int32\n",
       "Gross Profit Margin    float64\n",
       "dtype: object"
      ]
     },
     "execution_count": 122,
     "metadata": {},
     "output_type": "execute_result"
    }
   ],
   "source": [
    "\n",
    "financial_data_2=financial_data_2.replace(\"None\",0)\n",
    "financial_data_2=financial_data_2.astype('int32')\n",
    "financial_data_2['Gross Profit Margin']=financial_data_2['grossProfit']/financial_data_2['totalRevenue']\n",
    "financial_data_2.dtypes"
   ]
  },
  {
   "cell_type": "code",
   "execution_count": 127,
   "metadata": {},
   "outputs": [
    {
     "data": {},
     "metadata": {},
     "output_type": "display_data"
    },
    {
     "data": {
      "application/vnd.holoviews_exec.v0+json": "",
      "text/html": [
       "<div id='2649'>\n",
       "\n",
       "\n",
       "\n",
       "\n",
       "\n",
       "  <div class=\"bk-root\" id=\"a48c8591-4126-4067-98a0-3e2927786d78\" data-root-id=\"2649\"></div>\n",
       "</div>\n",
       "<script type=\"application/javascript\">(function(root) {\n",
       "  function embed_document(root) {\n",
       "    var docs_json = {\"c16a655c-fd51-44b4-9e01-c848850bb8bc\":{\"roots\":{\"references\":[{\"attributes\":{\"margin\":[5,5,5,5],\"name\":\"HSpacer05423\",\"sizing_mode\":\"stretch_width\"},\"id\":\"2711\",\"type\":\"Spacer\"},{\"attributes\":{\"axis\":{\"id\":\"2666\"},\"dimension\":1,\"grid_line_color\":null,\"ticker\":null},\"id\":\"2669\",\"type\":\"Grid\"},{\"attributes\":{},\"id\":\"2692\",\"type\":\"CategoricalTickFormatter\"},{\"attributes\":{\"end\":3.517952499535733,\"reset_end\":3.517952499535733,\"reset_start\":-14.615245043011754,\"start\":-14.615245043011754,\"tags\":[[[\"Gross Profit Margin\",\"Gross Profit Margin\",null]]]},\"id\":\"2652\",\"type\":\"Range1d\"},{\"attributes\":{},\"id\":\"2664\",\"type\":\"CategoricalTicker\"},{\"attributes\":{},\"id\":\"2659\",\"type\":\"CategoricalScale\"},{\"attributes\":{\"axis\":{\"id\":\"2663\"},\"grid_line_color\":null,\"ticker\":null},\"id\":\"2665\",\"type\":\"Grid\"},{\"attributes\":{},\"id\":\"2667\",\"type\":\"BasicTicker\"},{\"attributes\":{\"axis_label\":\"Gross Profit Margin\",\"bounds\":\"auto\",\"formatter\":{\"id\":\"2694\"},\"major_label_orientation\":\"horizontal\",\"ticker\":{\"id\":\"2667\"}},\"id\":\"2666\",\"type\":\"LinearAxis\"},{\"attributes\":{\"factors\":[\"2020-12-31\",\"2019-12-31\",\"2018-12-31\",\"2017-12-31\",\"2016-12-31\"],\"tags\":[[[\"fiscalDateEnding\",\"fiscalDateEnding\",null]]]},\"id\":\"2651\",\"type\":\"FactorRange\"},{\"attributes\":{\"children\":[{\"id\":\"2650\"},{\"id\":\"2654\"},{\"id\":\"2711\"}],\"margin\":[0,0,0,0],\"name\":\"Row05418\",\"tags\":[\"embedded\"]},\"id\":\"2649\",\"type\":\"Row\"},{\"attributes\":{\"bottom_units\":\"screen\",\"fill_alpha\":0.5,\"fill_color\":\"lightgrey\",\"left_units\":\"screen\",\"level\":\"overlay\",\"line_alpha\":1.0,\"line_color\":\"black\",\"line_dash\":[4,4],\"line_width\":2,\"right_units\":\"screen\",\"top_units\":\"screen\"},\"id\":\"2675\",\"type\":\"BoxAnnotation\"},{\"attributes\":{\"line_alpha\":0.1,\"line_color\":\"#1f77b3\",\"line_width\":2,\"x\":{\"field\":\"fiscalDateEnding\"},\"y\":{\"field\":\"Gross Profit Margin\"}},\"id\":\"2687\",\"type\":\"Line\"},{\"attributes\":{\"line_alpha\":0.2,\"line_color\":\"#1f77b3\",\"line_width\":2,\"x\":{\"field\":\"fiscalDateEnding\"},\"y\":{\"field\":\"Gross Profit Margin\"}},\"id\":\"2688\",\"type\":\"Line\"},{\"attributes\":{\"line_color\":\"#1f77b3\",\"line_width\":2,\"x\":{\"field\":\"fiscalDateEnding\"},\"y\":{\"field\":\"Gross Profit Margin\"}},\"id\":\"2686\",\"type\":\"Line\"},{\"attributes\":{\"margin\":[5,5,5,5],\"name\":\"HSpacer05422\",\"sizing_mode\":\"stretch_width\"},\"id\":\"2650\",\"type\":\"Spacer\"},{\"attributes\":{\"active_drag\":\"auto\",\"active_inspect\":\"auto\",\"active_multi\":null,\"active_scroll\":\"auto\",\"active_tap\":\"auto\",\"tools\":[{\"id\":\"2653\"},{\"id\":\"2670\"},{\"id\":\"2671\"},{\"id\":\"2672\"},{\"id\":\"2673\"},{\"id\":\"2674\"}]},\"id\":\"2676\",\"type\":\"Toolbar\"},{\"attributes\":{},\"id\":\"2684\",\"type\":\"Selection\"},{\"attributes\":{\"data_source\":{\"id\":\"2683\"},\"glyph\":{\"id\":\"2686\"},\"hover_glyph\":null,\"muted_glyph\":{\"id\":\"2688\"},\"nonselection_glyph\":{\"id\":\"2687\"},\"selection_glyph\":null,\"view\":{\"id\":\"2690\"}},\"id\":\"2689\",\"type\":\"GlyphRenderer\"},{\"attributes\":{},\"id\":\"2670\",\"type\":\"SaveTool\"},{\"attributes\":{\"callback\":null,\"renderers\":[{\"id\":\"2689\"}],\"tags\":[\"hv_created\"],\"tooltips\":[[\"fiscalDateEnding\",\"@{fiscalDateEnding}\"],[\"Gross Profit Margin\",\"@{Gross_Profit_Margin}\"]]},\"id\":\"2653\",\"type\":\"HoverTool\"},{\"attributes\":{\"source\":{\"id\":\"2683\"}},\"id\":\"2690\",\"type\":\"CDSView\"},{\"attributes\":{},\"id\":\"2671\",\"type\":\"PanTool\"},{\"attributes\":{\"below\":[{\"id\":\"2663\"}],\"center\":[{\"id\":\"2665\"},{\"id\":\"2669\"}],\"left\":[{\"id\":\"2666\"}],\"margin\":[5,5,5,5],\"min_border_bottom\":10,\"min_border_left\":10,\"min_border_right\":10,\"min_border_top\":10,\"plot_height\":300,\"plot_width\":700,\"renderers\":[{\"id\":\"2689\"}],\"sizing_mode\":\"fixed\",\"title\":{\"id\":\"2655\"},\"toolbar\":{\"id\":\"2676\"},\"x_range\":{\"id\":\"2651\"},\"x_scale\":{\"id\":\"2659\"},\"y_range\":{\"id\":\"2652\"},\"y_scale\":{\"id\":\"2661\"}},\"id\":\"2654\",\"subtype\":\"Figure\",\"type\":\"Plot\"},{\"attributes\":{},\"id\":\"2672\",\"type\":\"WheelZoomTool\"},{\"attributes\":{},\"id\":\"2661\",\"type\":\"LinearScale\"},{\"attributes\":{\"overlay\":{\"id\":\"2675\"}},\"id\":\"2673\",\"type\":\"BoxZoomTool\"},{\"attributes\":{\"axis_label\":\"fiscalDateEnding\",\"bounds\":\"auto\",\"formatter\":{\"id\":\"2692\"},\"major_label_orientation\":1.5707963267948966,\"ticker\":{\"id\":\"2664\"}},\"id\":\"2663\",\"type\":\"CategoricalAxis\"},{\"attributes\":{\"text\":\"Gross Profit Margin\",\"text_color\":{\"value\":\"black\"},\"text_font_size\":{\"value\":\"12pt\"}},\"id\":\"2655\",\"type\":\"Title\"},{\"attributes\":{},\"id\":\"2694\",\"type\":\"BasicTickFormatter\"},{\"attributes\":{\"data\":{\"Gross Profit Margin\":{\"__ndarray__\":\"sKpnyggOAEA/qqKGUjUqwIZxry4KUes/CYDAK1dU8D8MAnmEBmXLPw==\",\"dtype\":\"float64\",\"order\":\"little\",\"shape\":[5]},\"Gross_Profit_Margin\":{\"__ndarray__\":\"sKpnyggOAEA/qqKGUjUqwIZxry4KUes/CYDAK1dU8D8MAnmEBmXLPw==\",\"dtype\":\"float64\",\"order\":\"little\",\"shape\":[5]},\"fiscalDateEnding\":[\"2020-12-31\",\"2019-12-31\",\"2018-12-31\",\"2017-12-31\",\"2016-12-31\"]},\"selected\":{\"id\":\"2684\"},\"selection_policy\":{\"id\":\"2701\"}},\"id\":\"2683\",\"type\":\"ColumnDataSource\"},{\"attributes\":{},\"id\":\"2674\",\"type\":\"ResetTool\"},{\"attributes\":{},\"id\":\"2701\",\"type\":\"UnionRenderers\"}],\"root_ids\":[\"2649\"]},\"title\":\"Bokeh Application\",\"version\":\"2.2.3\"}};\n",
       "    var render_items = [{\"docid\":\"c16a655c-fd51-44b4-9e01-c848850bb8bc\",\"root_ids\":[\"2649\"],\"roots\":{\"2649\":\"a48c8591-4126-4067-98a0-3e2927786d78\"}}];\n",
       "    root.Bokeh.embed.embed_items_notebook(docs_json, render_items);\n",
       "  }\n",
       "  if (root.Bokeh !== undefined && root.Bokeh.Panel !== undefined) {\n",
       "    embed_document(root);\n",
       "  } else {\n",
       "    var attempts = 0;\n",
       "    var timer = setInterval(function(root) {\n",
       "      if (root.Bokeh !== undefined && root.Bokeh.Panel !== undefined) {\n",
       "        clearInterval(timer);\n",
       "        embed_document(root);\n",
       "      } else if (document.readyState == \"complete\") {\n",
       "        attempts++;\n",
       "        if (attempts > 100) {\n",
       "          clearInterval(timer);\n",
       "          console.log(\"Bokeh: ERROR: Unable to run BokehJS code because BokehJS library is missing\");\n",
       "        }\n",
       "      }\n",
       "    }, 10, root)\n",
       "  }\n",
       "})(window);</script>"
      ],
      "text/plain": [
       ":Curve   [fiscalDateEnding]   (Gross Profit Margin)"
      ]
     },
     "execution_count": 127,
     "metadata": {
      "application/vnd.holoviews_exec.v0+json": {
       "id": "2649"
      }
     },
     "output_type": "execute_result"
    }
   ],
   "source": [
    "financial_data_2.hvplot.line(x='fiscalDateEnding', y=['Gross Profit Margin'],rot=90, title=\"Gross Profit Margin\")\n",
    "    \n"
   ]
  },
  {
   "cell_type": "code",
   "execution_count": null,
   "metadata": {},
   "outputs": [],
   "source": []
  },
  {
   "cell_type": "code",
   "execution_count": 130,
   "metadata": {},
   "outputs": [
    {
     "data": {},
     "metadata": {},
     "output_type": "display_data"
    },
    {
     "data": {
      "application/vnd.holoviews_exec.v0+json": "",
      "text/html": [
       "<div id='2753'>\n",
       "\n",
       "\n",
       "\n",
       "\n",
       "\n",
       "  <div class=\"bk-root\" id=\"d5511799-f642-49df-b902-7582a307bc32\" data-root-id=\"2753\"></div>\n",
       "</div>\n",
       "<script type=\"application/javascript\">(function(root) {\n",
       "  function embed_document(root) {\n",
       "    var docs_json = {\"3ea9af84-820d-4639-8f57-1729ac5e341d\":{\"roots\":{\"references\":[{\"attributes\":{\"fill_alpha\":{\"value\":0.1},\"fill_color\":{\"field\":\"Variable\",\"transform\":{\"id\":\"2787\"}},\"line_alpha\":{\"value\":0.1},\"top\":{\"field\":\"value\"},\"width\":{\"value\":0.8},\"x\":{\"field\":\"xoffsets\"}},\"id\":\"2792\",\"type\":\"VBar\"},{\"attributes\":{\"active_drag\":\"auto\",\"active_inspect\":\"auto\",\"active_multi\":null,\"active_scroll\":\"auto\",\"active_tap\":\"auto\",\"tools\":[{\"id\":\"2757\"},{\"id\":\"2774\"},{\"id\":\"2775\"},{\"id\":\"2776\"},{\"id\":\"2777\"},{\"id\":\"2778\"}]},\"id\":\"2780\",\"type\":\"Toolbar\"},{\"attributes\":{\"fill_color\":{\"field\":\"Variable\",\"transform\":{\"id\":\"2787\"}},\"top\":{\"field\":\"value\"},\"width\":{\"value\":0.8},\"x\":{\"field\":\"xoffsets\"}},\"id\":\"2791\",\"type\":\"VBar\"},{\"attributes\":{\"factors\":[\"totalRevenue\",\"costOfRevenue\",\"grossProfit\"],\"palette\":[\"#1f77b3\",\"#ff7e0e\",\"#2ba02b\"]},\"id\":\"2787\",\"type\":\"CategoricalColorMapper\"},{\"attributes\":{\"margin\":[5,5,5,5],\"name\":\"HSpacer05593\",\"sizing_mode\":\"stretch_width\"},\"id\":\"2754\",\"type\":\"Spacer\"},{\"attributes\":{\"fill_alpha\":{\"value\":0.2},\"fill_color\":{\"field\":\"Variable\",\"transform\":{\"id\":\"2787\"}},\"line_alpha\":{\"value\":0.2},\"top\":{\"field\":\"value\"},\"width\":{\"value\":0.8},\"x\":{\"field\":\"xoffsets\"}},\"id\":\"2793\",\"type\":\"VBar\"},{\"attributes\":{\"bottom_units\":\"screen\",\"fill_alpha\":0.5,\"fill_color\":\"lightgrey\",\"left_units\":\"screen\",\"level\":\"overlay\",\"line_alpha\":1.0,\"line_color\":\"black\",\"line_dash\":[4,4],\"line_width\":2,\"right_units\":\"screen\",\"top_units\":\"screen\"},\"id\":\"2779\",\"type\":\"BoxAnnotation\"},{\"attributes\":{\"below\":[{\"id\":\"2767\"}],\"center\":[{\"id\":\"2769\"},{\"id\":\"2773\"}],\"left\":[{\"id\":\"2770\"}],\"margin\":[5,5,5,5],\"min_border_bottom\":10,\"min_border_left\":10,\"min_border_right\":10,\"min_border_top\":10,\"plot_height\":300,\"plot_width\":700,\"renderers\":[{\"id\":\"2794\"}],\"sizing_mode\":\"fixed\",\"title\":{\"id\":\"2759\"},\"toolbar\":{\"id\":\"2780\"},\"x_range\":{\"id\":\"2755\"},\"x_scale\":{\"id\":\"2763\"},\"y_range\":{\"id\":\"2756\"},\"y_scale\":{\"id\":\"2765\"}},\"id\":\"2758\",\"subtype\":\"Figure\",\"type\":\"Plot\"},{\"attributes\":{\"source\":{\"id\":\"2788\"}},\"id\":\"2795\",\"type\":\"CDSView\"},{\"attributes\":{},\"id\":\"2789\",\"type\":\"Selection\"},{\"attributes\":{},\"id\":\"2799\",\"type\":\"BasicTickFormatter\"},{\"attributes\":{},\"id\":\"2774\",\"type\":\"SaveTool\"},{\"attributes\":{\"callback\":null,\"renderers\":[{\"id\":\"2794\"}],\"tags\":[\"hv_created\"],\"tooltips\":[[\"fiscalDateEnding\",\"@{fiscalDateEnding}\"],[\"Variable\",\"@{Variable}\"],[\"value\",\"@{value}\"]]},\"id\":\"2757\",\"type\":\"HoverTool\"},{\"attributes\":{},\"id\":\"2775\",\"type\":\"PanTool\"},{\"attributes\":{},\"id\":\"2806\",\"type\":\"UnionRenderers\"},{\"attributes\":{\"factors\":[[\"2020-12-31\",\"grossProfit\"],[\"2020-12-31\",\"costOfRevenue\"],[\"2020-12-31\",\"totalRevenue\"],[\"2019-12-31\",\"grossProfit\"],[\"2019-12-31\",\"costOfRevenue\"],[\"2019-12-31\",\"totalRevenue\"],[\"2018-12-31\",\"grossProfit\"],[\"2018-12-31\",\"costOfRevenue\"],[\"2018-12-31\",\"totalRevenue\"],[\"2017-12-31\",\"grossProfit\"],[\"2017-12-31\",\"costOfRevenue\"],[\"2017-12-31\",\"totalRevenue\"],[\"2016-12-31\",\"grossProfit\"],[\"2016-12-31\",\"costOfRevenue\"],[\"2016-12-31\",\"totalRevenue\"]],\"tags\":[[[\"fiscalDateEnding\",\"fiscalDateEnding\",null],[\"Variable\",\"Variable\",null]]]},\"id\":\"2755\",\"type\":\"FactorRange\"},{\"attributes\":{\"axis_label\":\"\",\"bounds\":\"auto\",\"formatter\":{\"id\":\"2799\"},\"major_label_orientation\":\"horizontal\",\"ticker\":{\"id\":\"2771\"}},\"id\":\"2770\",\"type\":\"LinearAxis\"},{\"attributes\":{},\"id\":\"2776\",\"type\":\"WheelZoomTool\"},{\"attributes\":{},\"id\":\"2763\",\"type\":\"CategoricalScale\"},{\"attributes\":{\"overlay\":{\"id\":\"2779\"}},\"id\":\"2777\",\"type\":\"BoxZoomTool\"},{\"attributes\":{\"axis_label\":\"fiscalDateEnding, Variable\",\"bounds\":\"auto\",\"formatter\":{\"id\":\"2797\"},\"major_label_orientation\":1.5707963267948966,\"ticker\":{\"id\":\"2768\"}},\"id\":\"2767\",\"type\":\"CategoricalAxis\"},{\"attributes\":{},\"id\":\"2778\",\"type\":\"ResetTool\"},{\"attributes\":{\"end\":2542425657.6,\"reset_end\":2542425657.6,\"reset_start\":-2427542649.6,\"start\":-2427542649.6,\"tags\":[[[\"value\",\"value\",null]]]},\"id\":\"2756\",\"type\":\"Range1d\"},{\"attributes\":{},\"id\":\"2771\",\"type\":\"BasicTicker\"},{\"attributes\":{},\"id\":\"2765\",\"type\":\"LinearScale\"},{\"attributes\":{\"data\":{\"Variable\":[\"totalRevenue\",\"totalRevenue\",\"totalRevenue\",\"totalRevenue\",\"totalRevenue\",\"costOfRevenue\",\"costOfRevenue\",\"costOfRevenue\",\"costOfRevenue\",\"costOfRevenue\",\"grossProfit\",\"grossProfit\",\"grossProfit\",\"grossProfit\",\"grossProfit\"],\"fiscalDateEnding\":[\"2020-12-31\",\"2019-12-31\",\"2018-12-31\",\"2017-12-31\",\"2016-12-31\",\"2020-12-31\",\"2019-12-31\",\"2018-12-31\",\"2017-12-31\",\"2016-12-31\",\"2020-12-31\",\"2019-12-31\",\"2018-12-31\",\"2017-12-31\",\"2016-12-31\"],\"value\":{\"__ndarray__\":\"AA0YJMDMUfbAR/6HwE4NbcApi5tAoajbwBp3d8Clb+5AatD9QBgLscBrb0gAstp+AKKOmcAmTG+AEYDq\",\"dtype\":\"int32\",\"order\":\"little\",\"shape\":[15]},\"xoffsets\":[[\"2020-12-31\",\"totalRevenue\"],[\"2019-12-31\",\"totalRevenue\"],[\"2018-12-31\",\"totalRevenue\"],[\"2017-12-31\",\"totalRevenue\"],[\"2016-12-31\",\"totalRevenue\"],[\"2020-12-31\",\"costOfRevenue\"],[\"2019-12-31\",\"costOfRevenue\"],[\"2018-12-31\",\"costOfRevenue\"],[\"2017-12-31\",\"costOfRevenue\"],[\"2016-12-31\",\"costOfRevenue\"],[\"2020-12-31\",\"grossProfit\"],[\"2019-12-31\",\"grossProfit\"],[\"2018-12-31\",\"grossProfit\"],[\"2017-12-31\",\"grossProfit\"],[\"2016-12-31\",\"grossProfit\"]]},\"selected\":{\"id\":\"2789\"},\"selection_policy\":{\"id\":\"2806\"}},\"id\":\"2788\",\"type\":\"ColumnDataSource\"},{\"attributes\":{\"margin\":[5,5,5,5],\"name\":\"HSpacer05594\",\"sizing_mode\":\"stretch_width\"},\"id\":\"2816\",\"type\":\"Spacer\"},{\"attributes\":{\"text\":\"Income Statement Analysis\",\"text_color\":{\"value\":\"black\"},\"text_font_size\":{\"value\":\"12pt\"}},\"id\":\"2759\",\"type\":\"Title\"},{\"attributes\":{},\"id\":\"2768\",\"type\":\"CategoricalTicker\"},{\"attributes\":{\"data_source\":{\"id\":\"2788\"},\"glyph\":{\"id\":\"2791\"},\"hover_glyph\":null,\"muted_glyph\":{\"id\":\"2793\"},\"nonselection_glyph\":{\"id\":\"2792\"},\"selection_glyph\":null,\"view\":{\"id\":\"2795\"}},\"id\":\"2794\",\"type\":\"GlyphRenderer\"},{\"attributes\":{\"axis\":{\"id\":\"2770\"},\"dimension\":1,\"grid_line_color\":null,\"ticker\":null},\"id\":\"2773\",\"type\":\"Grid\"},{\"attributes\":{\"axis\":{\"id\":\"2767\"},\"grid_line_color\":null,\"ticker\":null},\"id\":\"2769\",\"type\":\"Grid\"},{\"attributes\":{},\"id\":\"2797\",\"type\":\"CategoricalTickFormatter\"},{\"attributes\":{\"children\":[{\"id\":\"2754\"},{\"id\":\"2758\"},{\"id\":\"2816\"}],\"margin\":[0,0,0,0],\"name\":\"Row05589\",\"tags\":[\"embedded\"]},\"id\":\"2753\",\"type\":\"Row\"}],\"root_ids\":[\"2753\"]},\"title\":\"Bokeh Application\",\"version\":\"2.2.3\"}};\n",
       "    var render_items = [{\"docid\":\"3ea9af84-820d-4639-8f57-1729ac5e341d\",\"root_ids\":[\"2753\"],\"roots\":{\"2753\":\"d5511799-f642-49df-b902-7582a307bc32\"}}];\n",
       "    root.Bokeh.embed.embed_items_notebook(docs_json, render_items);\n",
       "  }\n",
       "  if (root.Bokeh !== undefined && root.Bokeh.Panel !== undefined) {\n",
       "    embed_document(root);\n",
       "  } else {\n",
       "    var attempts = 0;\n",
       "    var timer = setInterval(function(root) {\n",
       "      if (root.Bokeh !== undefined && root.Bokeh.Panel !== undefined) {\n",
       "        clearInterval(timer);\n",
       "        embed_document(root);\n",
       "      } else if (document.readyState == \"complete\") {\n",
       "        attempts++;\n",
       "        if (attempts > 100) {\n",
       "          clearInterval(timer);\n",
       "          console.log(\"Bokeh: ERROR: Unable to run BokehJS code because BokehJS library is missing\");\n",
       "        }\n",
       "      }\n",
       "    }, 10, root)\n",
       "  }\n",
       "})(window);</script>"
      ],
      "text/plain": [
       ":Bars   [fiscalDateEnding,Variable]   (value)"
      ]
     },
     "execution_count": 130,
     "metadata": {
      "application/vnd.holoviews_exec.v0+json": {
       "id": "2753"
      }
     },
     "output_type": "execute_result"
    }
   ],
   "source": [
    "%matplotlib inline\n",
    "financial_data_2.hvplot.bar(x='fiscalDateEnding', y=['totalRevenue', 'costOfRevenue', 'grossProfit'],rot=90, title='Income Statement Analysis'\n",
    "    \n",
    ")"
   ]
  },
  {
   "cell_type": "code",
   "execution_count": 137,
   "metadata": {},
   "outputs": [],
   "source": []
  },
  {
   "cell_type": "code",
   "execution_count": 136,
   "metadata": {},
   "outputs": [],
   "source": []
  },
  {
   "cell_type": "code",
   "execution_count": 135,
   "metadata": {},
   "outputs": [],
   "source": []
  },
  {
   "cell_type": "code",
   "execution_count": null,
   "metadata": {},
   "outputs": [],
   "source": []
  },
  {
   "cell_type": "code",
   "execution_count": null,
   "metadata": {},
   "outputs": [],
   "source": []
  }
 ],
 "metadata": {
  "kernelspec": {
   "display_name": "Python 3",
   "language": "python",
   "name": "python3"
  },
  "language_info": {
   "codemirror_mode": {
    "name": "ipython",
    "version": 3
   },
   "file_extension": ".py",
   "mimetype": "text/x-python",
   "name": "python",
   "nbconvert_exporter": "python",
   "pygments_lexer": "ipython3",
   "version": "3.7.9"
  }
 },
 "nbformat": 4,
 "nbformat_minor": 4
}
