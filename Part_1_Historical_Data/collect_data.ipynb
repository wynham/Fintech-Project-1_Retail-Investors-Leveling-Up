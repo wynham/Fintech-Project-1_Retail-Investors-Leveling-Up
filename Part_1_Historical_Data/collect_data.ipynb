{
 "cells": [
  {
   "cell_type": "code",
   "execution_count": 12,
   "metadata": {},
   "outputs": [],
   "source": [
    "#!/usr/bin/env python\n",
    "import json"
   ]
  },
  {
   "cell_type": "code",
   "execution_count": 13,
   "metadata": {},
   "outputs": [],
   "source": [
    "from urllib.request import urlopen"
   ]
  },
  {
   "cell_type": "code",
   "execution_count": 14,
   "metadata": {},
   "outputs": [],
   "source": [
    "def get_cash_flow_statement(ticker, fmp_apikey):\n",
    "    av_apikey = 'N9FBQD3RJ2GTH1PK'\n",
    "    cash_flow_statement_url = (\"https://www.alphavantage.co/query?function=CASH_FLOW&symbol=\"+ticker+\"&apikey=\"+av_apikey)\n",
    "    cash_flow_statement_data = get_jsonparsed_data(cash_flow_statement_url)\n",
    "    write_file(cash_flow_statement_data, ticker + '_cash_flow_statement_data')"
   ]
  },
  {
   "cell_type": "code",
   "execution_count": 15,
   "metadata": {},
   "outputs": [],
   "source": [
    "def get_earnings_surprise(ticker, fmp_apikey):\n",
    "    av_apikey = 'N9FBQD3RJ2GTH1PK'\n",
    "    earnings_url = (\"https://www.alphavantage.co/query?function=EARNINGS&symbol=\"+ticker+\"&apikey=\"+av_apikey)\n",
    "    earnings_data = get_jsonparsed_data(earnings_url)\n",
    "    write_file(earnings_data, ticker + '_earnings_data')"
   ]
  },
  {
   "cell_type": "code",
   "execution_count": 16,
   "metadata": {},
   "outputs": [],
   "source": [
    "def get_jsonparsed_data(url):\n",
    "    response = urlopen(url)\n",
    "    data = response.read().decode(\"utf-8\")\n",
    "    return json.loads(data)"
   ]
  },
  {
   "cell_type": "code",
   "execution_count": 17,
   "metadata": {},
   "outputs": [],
   "source": [
    "def get_ballance_sheet(ticker):\n",
    "    av_apikey = 'N9FBQD3RJ2GTH1PK'\n",
    "    balance_sheet_url = (\"https://www.alphavantage.co/query?function=BALANCE_SHEET&symbol=\"+ ticker + \"&apikey=\"+av_apikey)\n",
    "    balance_sheet_data = get_jsonparsed_data(balance_sheet_url)\n",
    "    write_file(balance_sheet_data, ticker + '_balance_sheet_data')"
   ]
  },
  {
   "cell_type": "code",
   "execution_count": 18,
   "metadata": {},
   "outputs": [],
   "source": [
    "def get_income_statement(ticker):\n",
    "    av_apikey = 'N9FBQD3RJ2GTH1PK'\n",
    "    income_statement_url = (\"https://www.alphavantage.co/query?function=INCOME_STATEMENT&symbol=\" + ticker + \"&apikey=\" + av_apikey)\n",
    "    income_statement_data = get_jsonparsed_data(income_statement_url)\n",
    "    write_file(income_statement_data, ticker + '_income_statement_data')"
   ]
  },
  {
   "cell_type": "code",
   "execution_count": 19,
   "metadata": {},
   "outputs": [],
   "source": [
    "def write_csv_file(data, file_name):\n",
    "    data.to_csv(file_name)"
   ]
  },
  {
   "cell_type": "code",
   "execution_count": 20,
   "metadata": {},
   "outputs": [],
   "source": [
    "def write_file(data, file_name):\n",
    "    data_file = open(file_name+\".json\", \"w\")\n",
    "    data_file.write(json.dumps(data, indent=4, sort_keys=True))"
   ]
  },
  {
   "cell_type": "code",
   "execution_count": 21,
   "metadata": {},
   "outputs": [],
   "source": [
    "def get_financials(tickers):\n",
    "    # force ticker to be all caps because fmp is case sensitive\n",
    "    for ticker in tickers:\n",
    "        ticker = ticker.upper()\n",
    "        get_income_statement(ticker)\n",
    "        get_ballance_sheet(ticker)\n",
    "        get_cash_flow_statement(ticker, \"12cb8639b81ea717eea9010650f586b0\")\n",
    "        get_earnings_surprise(ticker, \"12cb8639b81ea717eea9010650f586b0\")"
   ]
  },
  {
   "cell_type": "code",
   "execution_count": 23,
   "metadata": {},
   "outputs": [],
   "source": [
    "# put in your ticker as a list/dict of strings\n",
    "get_financials(['ibm','tsla','goog'])"
   ]
  },
  {
   "cell_type": "code",
   "execution_count": null,
   "metadata": {},
   "outputs": [],
   "source": []
  }
 ],
 "metadata": {
  "kernelspec": {
   "display_name": "Python 3",
   "language": "python",
   "name": "python3"
  },
  "language_info": {
   "codemirror_mode": {
    "name": "ipython",
    "version": 3
   },
   "file_extension": ".py",
   "mimetype": "text/x-python",
   "name": "python",
   "nbconvert_exporter": "python",
   "pygments_lexer": "ipython3",
   "version": "3.7.9"
  }
 },
 "nbformat": 4,
 "nbformat_minor": 4
}
